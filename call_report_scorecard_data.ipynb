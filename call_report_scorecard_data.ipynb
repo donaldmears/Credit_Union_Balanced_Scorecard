{
 "cells": [
  {
   "cell_type": "markdown",
   "id": "76642192",
   "metadata": {},
   "source": [
    "### Import libraries and modify a few settings.  You'll want to run all of this code for two or more consecutive quarters ensuring that Q4 of the prior year can be used so that Return on Assets (ROA) can be calculated. "
   ]
  },
  {
   "cell_type": "code",
   "execution_count": 15,
   "id": "ebb9a977",
   "metadata": {},
   "outputs": [],
   "source": [
    "import pandas as pd\n",
    "import zipfile\n",
    "import urllib.request\n",
    "import os\n",
    "\n",
    "pd.set_option('display.max_columns', None)\n",
    "pd.set_option('display.max_rows', None)\n",
    "\n",
    "os.chdir(\"C:\\\\Users\\\\Family PC\\\\Desktop\\\\pythonfiles\\\\callreport\\\\balanced_scorecard\")"
   ]
  },
  {
   "cell_type": "markdown",
   "id": "b624da59",
   "metadata": {},
   "source": [
    "### Download zip file from NCUA website and extract all the txt files"
   ]
  },
  {
   "cell_type": "code",
   "execution_count": 16,
   "id": "2ae3c33a",
   "metadata": {},
   "outputs": [],
   "source": [
    "# Download the ZIP file from the NCUA website - change quarter to yyyy-03 or 06 or 09 or 12\n",
    "quarter = '2023-03' #YYYY-MM representing the quarter - MM is 03, 06, 09, or 12\n",
    "url = 'https://ncua.gov/files/publications/analysis/call-report-data-'+quarter+'.zip'\n",
    "filename = quarter+'.zip'\n",
    "urllib.request.urlretrieve(url, filename)\n",
    "\n",
    "# Extract the contents of the ZIP file\n",
    "with zipfile.ZipFile(filename, 'r') as zip_ref:\n",
    "    zip_ref.extractall()"
   ]
  },
  {
   "cell_type": "markdown",
   "id": "d4e0233a",
   "metadata": {},
   "source": [
    "### Read CSV files into dataframes, and then merge them on the CU_NUMBER, CYCLE_DATE, and JOIN_NUMBER columns.  Finally, expert the merged_df to Excel named with the relevant quarter"
   ]
  },
  {
   "cell_type": "code",
   "execution_count": 17,
   "id": "0361ac33",
   "metadata": {},
   "outputs": [],
   "source": [
    "# Read the CSV files into dataframes\n",
    "df_Acctdesc = pd.read_csv('AcctDesc.txt', encoding='iso-8859-1')\n",
    "df_branches = pd.read_csv('Credit Union Branch Information.txt', encoding='iso-8859-1')\n",
    "df_fs220 = pd.read_csv('FS220.txt', usecols=['CU_NUMBER', 'CYCLE_DATE', 'JOIN_NUMBER', 'ACCT_010', 'ACCT_013', 'ACCT_083', 'ACCT_400A', 'ACCT_671', 'ACCT_880', 'ACCT_025B'], encoding='iso-8859-1')\n",
    "df_fs220a = pd.read_csv('FS220A.txt', usecols=['CU_NUMBER', 'CYCLE_DATE', 'JOIN_NUMBER', 'ACCT_115', 'ACCT_131', 'ACCT_350', 'ACCT_618A', 'Acct_661A', 'Acct_997'], encoding='iso-8859-1')\n",
    "df_fs220b = pd.read_csv('FS220B.txt', usecols=['CU_NUMBER', 'CYCLE_DATE', 'JOIN_NUMBER', 'ACCT_659'], encoding='iso-8859-1')\n",
    "# df_fs220c = pd.read_csv('FS220C.txt', usecols=['CU_NUMBER', 'CYCLE_DATE', 'JOIN_NUMBER', 'ACCT_690', 'ACCT_691', 'ACCT_730B1', 'ACCT_730B2'], encoding='iso-8859-1')\n",
    "# df_fs220d = pd.read_csv('FS220D.txt', usecols=['CU_NUMBER', 'CYCLE_DATE', 'JOIN_NUMBER', 'Acct_700'], encoding='iso-8859-1')\n",
    "# df_fs220g = pd.read_csv('FS220G.txt', usecols=['CU_NUMBER', 'CYCLE_DATE', 'JOIN_NUMBER','ACCT_619B', 'ACCT_658A', 'ACCT_691L', 'ACCT_851', 'ACCT_852', 'ACCT_853'], encoding='iso-8859-1')\n",
    "# df_fs220h = pd.read_csv('FS220H.txt', usecols=['CU_NUMBER', 'CYCLE_DATE', 'JOIN_NUMBER','Acct_397A'], encoding='iso-8859-1')\n",
    "# df_fs220l = pd.read_csv('FS220L.txt', usecols=['CU_NUMBER', 'CYCLE_DATE', 'JOIN_NUMBER','ACCT_386A', 'ACCT_386B'], encoding='iso-8859-1')\n",
    "df_fs220n = pd.read_csv('FS220N.txt', usecols=['CU_Number', 'CYCLE_DATE', 'JOIN_NUMBER', 'ACCT_IS0020'], encoding='iso-8859-1')\n",
    "df_fs220n = df_fs220n.rename(columns={'CU_Number':'CU_NUMBER'})\n",
    "df_fs220p = pd.read_csv('FS220P.txt', usecols=['CU_NUMBER', 'Cycle_date','join_number','ACCT_IS0029'], encoding='iso-8859-1')\n",
    "df_fs220p = df_fs220p.rename(columns={'Cycle_date':'CYCLE_DATE', 'join_number':'JOIN_NUMBER'})\n",
    "df_FOICU = pd.read_csv('FOICU.txt', usecols=['CU_NUMBER','CYCLE_DATE','JOIN_NUMBER','CU_NAME', 'CITY','STATE'], encoding='iso-8859-1')\n",
    "\n",
    "dfs = [df_FOICU, df_fs220, df_fs220a, df_fs220b, df_fs220n, df_fs220p]\n",
    "\n",
    "# join the dataframes on cu_number, cycle_date, and join_number\n",
    "merged_df = pd.merge(dfs[0], dfs[1], on=['CU_NUMBER', 'CYCLE_DATE', 'JOIN_NUMBER'], how='outer')\n",
    "for i in range(2, len(dfs)):\n",
    "    merged_df = pd.merge(merged_df, dfs[i], on=['CU_NUMBER', 'CYCLE_DATE', 'JOIN_NUMBER'], how='outer')\n",
    "\n",
    "\n",
    "merged_df.to_excel(quarter + '.xlsx', index=False)"
   ]
  }
 ],
 "metadata": {
  "kernelspec": {
   "display_name": "Python 3 (ipykernel)",
   "language": "python",
   "name": "python3"
  },
  "language_info": {
   "codemirror_mode": {
    "name": "ipython",
    "version": 3
   },
   "file_extension": ".py",
   "mimetype": "text/x-python",
   "name": "python",
   "nbconvert_exporter": "python",
   "pygments_lexer": "ipython3",
   "version": "3.9.16"
  }
 },
 "nbformat": 4,
 "nbformat_minor": 5
}
